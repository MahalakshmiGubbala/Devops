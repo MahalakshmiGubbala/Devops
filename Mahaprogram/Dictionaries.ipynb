{
 "cells": [
  {
   "cell_type": "markdown",
   "id": "b890597f-eb31-431d-b807-af8feda0c7d2",
   "metadata": {},
   "source": [
    "# Dictionaires"
   ]
  },
  {
   "cell_type": "code",
   "execution_count": 39,
   "id": "140a04f4-c501-4287-be9b-ea030789f793",
   "metadata": {},
   "outputs": [],
   "source": [
    "from collections import defaultdict"
   ]
  },
  {
   "cell_type": "code",
   "execution_count": 1,
   "id": "fa0c8141-810b-4f40-965c-961f518a96dd",
   "metadata": {},
   "outputs": [
    {
     "data": {
      "text/plain": [
       "{'0': 0,\n",
       " '1': 1,\n",
       " '2': 2,\n",
       " '3': 3,\n",
       " '4': 4,\n",
       " '5': 5,\n",
       " '6': 6,\n",
       " '7': 7,\n",
       " '8': 8,\n",
       " '9': 9,\n",
       " 'A': 10,\n",
       " 'B': 11,\n",
       " 'C': 12,\n",
       " 'D': 13,\n",
       " 'E': 14,\n",
       " 'F': 15}"
      ]
     },
     "execution_count": 1,
     "metadata": {},
     "output_type": "execute_result"
    }
   ],
   "source": [
    "hexNumbers ={ '0': 0,'1': 1, '2': 2, '3':3, '4':4,'5':5,'6':6,'7':7, '8':8,'9':9, \n",
    "                'A': 10, 'B':11,'C':12, 'D':13, 'E':14, 'F':15\n",
    "                }\n",
    "hexNumbers\n"
   ]
  },
  {
   "cell_type": "code",
   "execution_count": 2,
   "id": "78d6028e-91af-4506-8c37-6835e3db337d",
   "metadata": {},
   "outputs": [
    {
     "data": {
      "text/plain": [
       "10"
      ]
     },
     "execution_count": 2,
     "metadata": {},
     "output_type": "execute_result"
    }
   ],
   "source": [
    "hexNumbers['A']\n"
   ]
  },
  {
   "cell_type": "code",
   "execution_count": 3,
   "id": "9f586bca-cd9c-4639-aacb-b5fb1f415e9e",
   "metadata": {},
   "outputs": [],
   "source": [
    "hexNumbers['NEW']='None'\n"
   ]
  },
  {
   "cell_type": "code",
   "execution_count": 4,
   "id": "88287af3-308f-4b3f-9224-727bbb598256",
   "metadata": {},
   "outputs": [
    {
     "data": {
      "text/plain": [
       "{'0': 0,\n",
       " '1': 1,\n",
       " '2': 2,\n",
       " '3': 3,\n",
       " '4': 4,\n",
       " '5': 5,\n",
       " '6': 6,\n",
       " '7': 7,\n",
       " '8': 8,\n",
       " '9': 9,\n",
       " 'A': 10,\n",
       " 'B': 11,\n",
       " 'C': 12,\n",
       " 'D': 13,\n",
       " 'E': 14,\n",
       " 'F': 15,\n",
       " 'NEW': 'None'}"
      ]
     },
     "execution_count": 4,
     "metadata": {},
     "output_type": "execute_result"
    }
   ],
   "source": [
    "hexNumbers"
   ]
  },
  {
   "cell_type": "code",
   "execution_count": 6,
   "id": "98f850a7-41e0-4dcf-a3cc-3fa14cc1f7c9",
   "metadata": {},
   "outputs": [
    {
     "data": {
      "text/plain": [
       "{'0': 0,\n",
       " '1': 1,\n",
       " '2': 2,\n",
       " '3': 3,\n",
       " '4': 4,\n",
       " '5': 5,\n",
       " '6': 6,\n",
       " '7': 7,\n",
       " '8': 8,\n",
       " '9': 9,\n",
       " 'A': 'TEN',\n",
       " 'B': 11,\n",
       " 'C': 12,\n",
       " 'D': 13,\n",
       " 'E': 14,\n",
       " 'F': 15,\n",
       " 'NEW': 'None'}"
      ]
     },
     "execution_count": 6,
     "metadata": {},
     "output_type": "execute_result"
    }
   ],
   "source": [
    "hexNumbers['A']='TEN'\n",
    "hexNumbers"
   ]
  },
  {
   "cell_type": "code",
   "execution_count": 7,
   "id": "f6cd82b7-e966-4ee3-9855-2b4dadec85b0",
   "metadata": {},
   "outputs": [
    {
     "data": {
      "text/plain": [
       "dict_keys(['0', '1', '2', '3', '4', '5', '6', '7', '8', '9', 'A', 'B', 'C', 'D', 'E', 'F', 'NEW'])"
      ]
     },
     "execution_count": 7,
     "metadata": {},
     "output_type": "execute_result"
    }
   ],
   "source": [
    "hexNumbers.keys()"
   ]
  },
  {
   "cell_type": "code",
   "execution_count": 8,
   "id": "b2cd743f-bd40-41f4-8f43-1793d625685b",
   "metadata": {},
   "outputs": [
    {
     "data": {
      "text/plain": [
       "dict_values([0, 1, 2, 3, 4, 5, 6, 7, 8, 9, 'TEN', 11, 12, 13, 14, 15, 'None'])"
      ]
     },
     "execution_count": 8,
     "metadata": {},
     "output_type": "execute_result"
    }
   ],
   "source": [
    "hexNumbers.values()"
   ]
  },
  {
   "cell_type": "code",
   "execution_count": 9,
   "id": "b5c09a61-aa99-451b-9414-cc7afd928a88",
   "metadata": {},
   "outputs": [
    {
     "data": {
      "text/plain": [
       "['0',\n",
       " '1',\n",
       " '2',\n",
       " '3',\n",
       " '4',\n",
       " '5',\n",
       " '6',\n",
       " '7',\n",
       " '8',\n",
       " '9',\n",
       " 'A',\n",
       " 'B',\n",
       " 'C',\n",
       " 'D',\n",
       " 'E',\n",
       " 'F',\n",
       " 'NEW']"
      ]
     },
     "execution_count": 9,
     "metadata": {},
     "output_type": "execute_result"
    }
   ],
   "source": [
    "list(hexNumbers.keys())"
   ]
  },
  {
   "cell_type": "code",
   "execution_count": 10,
   "id": "bd93fcd0-c1eb-4fe8-b30e-5900267f0008",
   "metadata": {},
   "outputs": [
    {
     "ename": "KeyError",
     "evalue": "'Z'",
     "output_type": "error",
     "traceback": [
      "\u001b[1;31m---------------------------------------------------------------------------\u001b[0m",
      "\u001b[1;31mKeyError\u001b[0m                                  Traceback (most recent call last)",
      "Cell \u001b[1;32mIn[10], line 1\u001b[0m\n\u001b[1;32m----> 1\u001b[0m \u001b[43mhexNumbers\u001b[49m\u001b[43m[\u001b[49m\u001b[38;5;124;43m'\u001b[39;49m\u001b[38;5;124;43mZ\u001b[39;49m\u001b[38;5;124;43m'\u001b[39;49m\u001b[43m]\u001b[49m\n",
      "\u001b[1;31mKeyError\u001b[0m: 'Z'"
     ]
    }
   ],
   "source": [
    "hexNumbers['Z']"
   ]
  },
  {
   "cell_type": "code",
   "execution_count": 13,
   "id": "a82e5baf-c5ad-4058-93eb-94e116a560f3",
   "metadata": {},
   "outputs": [
    {
     "data": {
      "text/plain": [
       "'Not found'"
      ]
     },
     "execution_count": 13,
     "metadata": {},
     "output_type": "execute_result"
    }
   ],
   "source": [
    "hexNumbers.get('Z', 'Not found')"
   ]
  },
  {
   "cell_type": "code",
   "execution_count": 15,
   "id": "593a97e2-9689-4cb7-81fe-24db303e5d3c",
   "metadata": {},
   "outputs": [
    {
     "name": "stdout",
     "output_type": "stream",
     "text": [
      "None\n"
     ]
    }
   ],
   "source": [
    "print(hexNumbers.get('Z'))"
   ]
  },
  {
   "cell_type": "code",
   "execution_count": 16,
   "id": "49aae1a6-c185-4f5e-bdc6-13dc258a5d72",
   "metadata": {},
   "outputs": [
    {
     "data": {
      "text/plain": [
       "17"
      ]
     },
     "execution_count": 16,
     "metadata": {},
     "output_type": "execute_result"
    }
   ],
   "source": [
    "len(hexNumbers)"
   ]
  },
  {
   "cell_type": "code",
   "execution_count": 21,
   "id": "44ec77bb-7c9f-457b-a2d3-ca9b33306b46",
   "metadata": {},
   "outputs": [
    {
     "data": {
      "text/plain": [
       "{'0': [0], '1': [1], '2': [2, 3, 4]}"
      ]
     },
     "execution_count": 21,
     "metadata": {},
     "output_type": "execute_result"
    }
   ],
   "source": [
    "hexNumbers ={ '0': [0],\n",
    "               '1': [1], \n",
    "               '2': [2, 3, 4],\n",
    "                \n",
    "                }\n",
    "hexNumbers"
   ]
  },
  {
   "cell_type": "code",
   "execution_count": 23,
   "id": "922b461d-ee4e-4d15-9694-0e6e402ca611",
   "metadata": {},
   "outputs": [
    {
     "data": {
      "text/plain": [
       "{'0': [0], '1': [1, 11, 11], '2': [2, 3, 4]}"
      ]
     },
     "execution_count": 23,
     "metadata": {},
     "output_type": "execute_result"
    }
   ],
   "source": [
    "hexNumbers['1'].append(11)\n",
    "hexNumbers"
   ]
  },
  {
   "cell_type": "code",
   "execution_count": 27,
   "id": "44049647-8d12-4cbc-b6a0-ee3a54fb378c",
   "metadata": {},
   "outputs": [
    {
     "data": {
      "text/plain": [
       "{'0': [0], '1': [1, 11, 11], '2': [2, 3, 4], '3': 'Cat'}"
      ]
     },
     "execution_count": 27,
     "metadata": {},
     "output_type": "execute_result"
    }
   ],
   "source": [
    "hexNumbers['3']='Cat'\n",
    "hexNumbers"
   ]
  },
  {
   "cell_type": "code",
   "execution_count": 28,
   "id": "ebdaa05f-7b12-45a4-9f95-6ca31491abdb",
   "metadata": {},
   "outputs": [
    {
     "data": {
      "text/plain": [
       "{'0': [0], '1': [1, 11, 11], '2': [2, 3, 4], '3': 'Cat'}"
      ]
     },
     "execution_count": 28,
     "metadata": {},
     "output_type": "execute_result"
    }
   ],
   "source": [
    "hexNumbers['3']='Cat'\n",
    "hexNumbers"
   ]
  },
  {
   "cell_type": "code",
   "execution_count": 36,
   "id": "32ee4a5e-2175-44a4-b78b-55a3dcbafa5c",
   "metadata": {},
   "outputs": [],
   "source": [
    "if '4' not in hexNumbers:\n",
    "    hexNumbers['4']=[]\n",
    "    \n",
    "hexNumbers['4'].append(11)"
   ]
  },
  {
   "cell_type": "code",
   "execution_count": 35,
   "id": "923803ce-9ad5-450c-ab1b-a21f920727d5",
   "metadata": {},
   "outputs": [
    {
     "data": {
      "text/plain": [
       "{'0': [0], '1': [1, 11, 11], '2': [2, 3, 4], '3': 'Cat', '4': [11]}"
      ]
     },
     "execution_count": 35,
     "metadata": {},
     "output_type": "execute_result"
    }
   ],
   "source": [
    "hexNumbers"
   ]
  },
  {
   "cell_type": "code",
   "execution_count": 37,
   "id": "4323919f-6d69-4985-933f-a8bd90907c1b",
   "metadata": {},
   "outputs": [],
   "source": [
    "if '4' not in hexNumbers:\n",
    "    hexNumbers['4']=[]\n",
    "    \n",
    "hexNumbers['4'].append(11)"
   ]
  },
  {
   "cell_type": "code",
   "execution_count": 38,
   "id": "318223de-e02a-48ea-beba-77b69db0cc0f",
   "metadata": {},
   "outputs": [
    {
     "data": {
      "text/plain": [
       "{'0': [0], '1': [1, 11, 11], '2': [2, 3, 4], '3': 'Cat', '4': [11, 11, 11]}"
      ]
     },
     "execution_count": 38,
     "metadata": {},
     "output_type": "execute_result"
    }
   ],
   "source": [
    "hexNumbers\n"
   ]
  },
  {
   "cell_type": "markdown",
   "id": "6ed07c11-2122-4644-b14f-cc4357ffc0e6",
   "metadata": {},
   "source": [
    "## The default Dict"
   ]
  },
  {
   "cell_type": "code",
   "execution_count": 40,
   "id": "46007e26-a6da-4c06-9f35-492dd6196bd8",
   "metadata": {},
   "outputs": [],
   "source": [
    "hexNumbers=defaultdict(list)"
   ]
  },
  {
   "cell_type": "code",
   "execution_count": 41,
   "id": "2a454e6c-2641-4faa-b9c9-b464db578dcd",
   "metadata": {},
   "outputs": [
    {
     "data": {
      "text/plain": [
       "defaultdict(list, {})"
      ]
     },
     "execution_count": 41,
     "metadata": {},
     "output_type": "execute_result"
    }
   ],
   "source": [
    "hexNumbers"
   ]
  },
  {
   "cell_type": "code",
   "execution_count": 42,
   "id": "feee574a-6e65-4061-85ea-6e6c221ae012",
   "metadata": {},
   "outputs": [],
   "source": [
    "hexNumbers['A'].append('Ten')"
   ]
  },
  {
   "cell_type": "code",
   "execution_count": 43,
   "id": "9e926fa8-2d37-4b91-b989-c3ee0e069747",
   "metadata": {},
   "outputs": [
    {
     "data": {
      "text/plain": [
       "defaultdict(list, {'A': ['Ten']})"
      ]
     },
     "execution_count": 43,
     "metadata": {},
     "output_type": "execute_result"
    }
   ],
   "source": [
    "hexNumbers"
   ]
  },
  {
   "cell_type": "code",
   "execution_count": 44,
   "id": "3aa95534-dfda-4e1a-9c07-64ac8168a2ba",
   "metadata": {},
   "outputs": [],
   "source": [
    "hexNumbers['A'].append('10')"
   ]
  },
  {
   "cell_type": "code",
   "execution_count": 45,
   "id": "4225d55b-6714-455f-9ad4-777f68925ee7",
   "metadata": {},
   "outputs": [
    {
     "data": {
      "text/plain": [
       "defaultdict(list, {'A': ['Ten', '10']})"
      ]
     },
     "execution_count": 45,
     "metadata": {},
     "output_type": "execute_result"
    }
   ],
   "source": [
    "hexNumbers"
   ]
  },
  {
   "cell_type": "code",
   "execution_count": 47,
   "id": "86186c59-f4a1-41e6-b53f-ec4b7782cd7d",
   "metadata": {},
   "outputs": [
    {
     "data": {
      "text/plain": [
       "[]"
      ]
     },
     "execution_count": 47,
     "metadata": {},
     "output_type": "execute_result"
    }
   ],
   "source": [
    "hexNumbers['f']"
   ]
  },
  {
   "cell_type": "code",
   "execution_count": null,
   "id": "3e101b4c-8384-477e-83ca-97b79bd41d64",
   "metadata": {},
   "outputs": [],
   "source": []
  }
 ],
 "metadata": {
  "kernelspec": {
   "display_name": "Python 3 (ipykernel)",
   "language": "python",
   "name": "python3"
  },
  "language_info": {
   "codemirror_mode": {
    "name": "ipython",
    "version": 3
   },
   "file_extension": ".py",
   "mimetype": "text/x-python",
   "name": "python",
   "nbconvert_exporter": "python",
   "pygments_lexer": "ipython3",
   "version": "3.10.6"
  }
 },
 "nbformat": 4,
 "nbformat_minor": 5
}
