{
 "cells": [
  {
   "cell_type": "markdown",
   "id": "e6c0b0b1-1618-4dcc-bc62-6ad55a27e6b5",
   "metadata": {},
   "source": [
    "# Strings"
   ]
  },
  {
   "cell_type": "markdown",
   "id": "8b7c1554-0298-44af-b04c-908d7a1b7a47",
   "metadata": {},
   "source": [
    "## Slicing"
   ]
  },
  {
   "cell_type": "code",
   "execution_count": 15,
   "id": "c7165573-e0fa-4589-9e4e-83ae3564921f",
   "metadata": {},
   "outputs": [],
   "source": [
    "import math"
   ]
  },
  {
   "cell_type": "code",
   "execution_count": 2,
   "id": "7bb4cda2-981d-46ee-82d8-ec63fb355cc3",
   "metadata": {},
   "outputs": [],
   "source": [
    "name = 'my name is Rayn Michele'"
   ]
  },
  {
   "cell_type": "code",
   "execution_count": 3,
   "id": "4735f9a3-9d51-4560-892d-26e7af76c140",
   "metadata": {},
   "outputs": [
    {
     "data": {
      "text/plain": [
       "'m'"
      ]
     },
     "execution_count": 3,
     "metadata": {},
     "output_type": "execute_result"
    }
   ],
   "source": [
    "name[0]"
   ]
  },
  {
   "cell_type": "code",
   "execution_count": 4,
   "id": "73b140da-fe1b-4c8b-8817-15be909f341f",
   "metadata": {},
   "outputs": [
    {
     "data": {
      "text/plain": [
       "'y'"
      ]
     },
     "execution_count": 4,
     "metadata": {},
     "output_type": "execute_result"
    }
   ],
   "source": [
    "name[1]"
   ]
  },
  {
   "cell_type": "code",
   "execution_count": 5,
   "id": "63ad12de-5546-45c0-ba76-d10febd861db",
   "metadata": {},
   "outputs": [
    {
     "data": {
      "text/plain": [
       "'my name'"
      ]
     },
     "execution_count": 5,
     "metadata": {},
     "output_type": "execute_result"
    }
   ],
   "source": [
    "name[0:7]"
   ]
  },
  {
   "cell_type": "code",
   "execution_count": 6,
   "id": "804b85a0-ba4c-4d0c-8389-ae671ebf70cf",
   "metadata": {},
   "outputs": [
    {
     "data": {
      "text/plain": [
       "'my name'"
      ]
     },
     "execution_count": 6,
     "metadata": {},
     "output_type": "execute_result"
    }
   ],
   "source": [
    "name[:7]"
   ]
  },
  {
   "cell_type": "code",
   "execution_count": 7,
   "id": "2f4654b5-371a-46fb-81fb-f2a2d0e0e1e5",
   "metadata": {},
   "outputs": [
    {
     "data": {
      "text/plain": [
       "'Rayn Michele'"
      ]
     },
     "execution_count": 7,
     "metadata": {},
     "output_type": "execute_result"
    }
   ],
   "source": [
    "name[11:]"
   ]
  },
  {
   "cell_type": "code",
   "execution_count": 8,
   "id": "0476ea69-8dc3-4053-8d6f-2dba905696f5",
   "metadata": {},
   "outputs": [
    {
     "data": {
      "text/plain": [
       "[3, 4]"
      ]
     },
     "execution_count": 8,
     "metadata": {},
     "output_type": "execute_result"
    }
   ],
   "source": [
    "mylist=[1,2,3,4,5]\n",
    "mylist[2:4]"
   ]
  },
  {
   "cell_type": "code",
   "execution_count": 9,
   "id": "ad916c48-e620-4aab-bf73-ed33f9d74f54",
   "metadata": {},
   "outputs": [
    {
     "data": {
      "text/plain": [
       "23"
      ]
     },
     "execution_count": 9,
     "metadata": {},
     "output_type": "execute_result"
    }
   ],
   "source": [
    "len(name)"
   ]
  },
  {
   "cell_type": "code",
   "execution_count": 10,
   "id": "ccd18325-f1b1-4940-afbf-483c3f938937",
   "metadata": {},
   "outputs": [
    {
     "data": {
      "text/plain": [
       "5"
      ]
     },
     "execution_count": 10,
     "metadata": {},
     "output_type": "execute_result"
    }
   ],
   "source": [
    "len(mylist)"
   ]
  },
  {
   "cell_type": "markdown",
   "id": "015425e6-43bf-40ea-9b8e-4fde0ff561b7",
   "metadata": {},
   "source": [
    "## Formatting"
   ]
  },
  {
   "cell_type": "code",
   "execution_count": 12,
   "id": "f5efe159-7678-42b1-86e1-d055ecc11ecb",
   "metadata": {},
   "outputs": [
    {
     "data": {
      "text/plain": [
       "'my number is: 5'"
      ]
     },
     "execution_count": 12,
     "metadata": {},
     "output_type": "execute_result"
    }
   ],
   "source": [
    "'my number is: '+str(5)"
   ]
  },
  {
   "cell_type": "code",
   "execution_count": 13,
   "id": "7deda35e-02f1-491e-a7d6-508e41b5c7eb",
   "metadata": {},
   "outputs": [
    {
     "data": {
      "text/plain": [
       "'my number is: 5'"
      ]
     },
     "execution_count": 13,
     "metadata": {},
     "output_type": "execute_result"
    }
   ],
   "source": [
    "f'my number is: {5}'"
   ]
  },
  {
   "cell_type": "code",
   "execution_count": 14,
   "id": "683fa36a-36ed-4266-9475-75396709bd19",
   "metadata": {},
   "outputs": [
    {
     "data": {
      "text/plain": [
       "'my number is: 5 and twice the number is 10'"
      ]
     },
     "execution_count": 14,
     "metadata": {},
     "output_type": "execute_result"
    }
   ],
   "source": [
    "f'my number is: {5} and twice the number is {2 * 5}'"
   ]
  },
  {
   "cell_type": "code",
   "execution_count": 16,
   "id": "a9cdd92d-1e0e-4397-b2e0-77ca62691994",
   "metadata": {},
   "outputs": [
    {
     "data": {
      "text/plain": [
       "'Pi is:3.141592653589793 '"
      ]
     },
     "execution_count": 16,
     "metadata": {},
     "output_type": "execute_result"
    }
   ],
   "source": [
    "f'Pi is:{ math.pi} '"
   ]
  },
  {
   "cell_type": "code",
   "execution_count": 17,
   "id": "e51c219c-bd54-453d-bf05-51bee46fefb7",
   "metadata": {},
   "outputs": [
    {
     "data": {
      "text/plain": [
       "'Pi is:3.14 '"
      ]
     },
     "execution_count": 17,
     "metadata": {},
     "output_type": "execute_result"
    }
   ],
   "source": [
    "f'Pi is:{ math.pi:.2f} '"
   ]
  },
  {
   "cell_type": "code",
   "execution_count": 18,
   "id": "607d5176-18c0-4377-b5a4-ebd49a7577c6",
   "metadata": {},
   "outputs": [
    {
     "data": {
      "text/plain": [
       "'Pi is :3.141592653589793'"
      ]
     },
     "execution_count": 18,
     "metadata": {},
     "output_type": "execute_result"
    }
   ],
   "source": [
    "'Pi is :{}'.format(math.pi)"
   ]
  },
  {
   "cell_type": "markdown",
   "id": "2c9924fa-108a-4cd6-94af-32a3536c8459",
   "metadata": {},
   "source": [
    "## Multi line Strings"
   ]
  },
  {
   "cell_type": "code",
   "execution_count": 19,
   "id": "b02da39e-63fc-4e44-b255-55f5005dd278",
   "metadata": {},
   "outputs": [
    {
     "ename": "SyntaxError",
     "evalue": "unterminated string literal (detected at line 1) (99987237.py, line 1)",
     "output_type": "error",
     "traceback": [
      "\u001b[1;36m  Cell \u001b[1;32mIn[19], line 1\u001b[1;36m\u001b[0m\n\u001b[1;33m    name = 'my name is\u001b[0m\n\u001b[1;37m           ^\u001b[0m\n\u001b[1;31mSyntaxError\u001b[0m\u001b[1;31m:\u001b[0m unterminated string literal (detected at line 1)\n"
     ]
    }
   ],
   "source": [
    "name = 'my name is \n",
    "Rayn Michele'"
   ]
  },
  {
   "cell_type": "code",
   "execution_count": 24,
   "id": "52df64ff-0258-4700-ac38-4c02d50dbfbc",
   "metadata": {},
   "outputs": [],
   "source": [
    "mystring= ''' I can enter multi line stings\n",
    "new lines \n",
    "third line it stops at \\'\\'\\'\n",
    "'''"
   ]
  },
  {
   "cell_type": "code",
   "execution_count": 25,
   "id": "9bf7532e-1401-43a2-a2ac-b48dcf1e77b1",
   "metadata": {},
   "outputs": [
    {
     "data": {
      "text/plain": [
       "\" I can enter multi line stings\\nnew lines \\nthird line it stops at '''\\n\""
      ]
     },
     "execution_count": 25,
     "metadata": {},
     "output_type": "execute_result"
    }
   ],
   "source": [
    "mystring"
   ]
  },
  {
   "cell_type": "code",
   "execution_count": 26,
   "id": "e10c5116-5722-4417-8144-165e96bd4b76",
   "metadata": {},
   "outputs": [
    {
     "name": "stdout",
     "output_type": "stream",
     "text": [
      " I can enter multi line stings\n",
      "new lines \n",
      "third line it stops at '''\n",
      "\n"
     ]
    }
   ],
   "source": [
    "print(mystring)"
   ]
  }
 ],
 "metadata": {
  "kernelspec": {
   "display_name": "Python 3 (ipykernel)",
   "language": "python",
   "name": "python3"
  },
  "language_info": {
   "codemirror_mode": {
    "name": "ipython",
    "version": 3
   },
   "file_extension": ".py",
   "mimetype": "text/x-python",
   "name": "python",
   "nbconvert_exporter": "python",
   "pygments_lexer": "ipython3",
   "version": "3.10.6"
  }
 },
 "nbformat": 4,
 "nbformat_minor": 5
}
