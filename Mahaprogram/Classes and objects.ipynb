{
 "cells": [
  {
   "cell_type": "markdown",
   "id": "0c32e9dc-3dbf-4b92-ba23-e13ca7f7906f",
   "metadata": {},
   "source": [
    "# Classes"
   ]
  },
  {
   "cell_type": "code",
   "execution_count": 4,
   "id": "56a4d22f-85b7-4d85-9c96-a824e105328c",
   "metadata": {},
   "outputs": [],
   "source": [
    "class Dog:\n",
    "    def __init__(self):\n",
    "        self.name = 'Rover'\n",
    "        self.legs = 4\n",
    "    def speak(self):\n",
    "        print(self.name + ' says: Bark')"
   ]
  },
  {
   "cell_type": "code",
   "execution_count": 5,
   "id": "570c2585-dd1b-43ee-a1fa-bd88d4d2d7ac",
   "metadata": {},
   "outputs": [],
   "source": [
    "my_dog=Dog()\n",
    "another_dog=Dog()\n"
   ]
  },
  {
   "cell_type": "code",
   "execution_count": 6,
   "id": "c365d141-e804-4def-9582-bc106b950f4b",
   "metadata": {},
   "outputs": [
    {
     "name": "stdout",
     "output_type": "stream",
     "text": [
      "Rover says: Bark\n"
     ]
    }
   ],
   "source": [
    "my_dog.speak()"
   ]
  },
  {
   "cell_type": "code",
   "execution_count": 7,
   "id": "0e921b60-5876-466a-b264-883f863ee4c7",
   "metadata": {},
   "outputs": [
    {
     "name": "stdout",
     "output_type": "stream",
     "text": [
      "Rover says: Bark\n"
     ]
    }
   ],
   "source": [
    "another_dog.speak()"
   ]
  },
  {
   "cell_type": "code",
   "execution_count": 12,
   "id": "990e4eaf-1657-4bbd-926f-56054bc64997",
   "metadata": {},
   "outputs": [],
   "source": [
    "class Dog:\n",
    "    def __init__(self,name):\n",
    "        self.name = name\n",
    "        self.legs = 4\n",
    "    def speak(self):\n",
    "        print(self.name + ' says: Bark')"
   ]
  },
  {
   "cell_type": "code",
   "execution_count": 13,
   "id": "7e9d6a3f-ff31-4782-bdf0-c00d6e66b0bb",
   "metadata": {},
   "outputs": [],
   "source": [
    "my_dog=Dog('Puppy')\n",
    "another_dog=Dog('Max')\n"
   ]
  },
  {
   "cell_type": "code",
   "execution_count": 14,
   "id": "fdf0fa32-d5f9-4b38-a6cd-b53e28fd2809",
   "metadata": {},
   "outputs": [
    {
     "name": "stdout",
     "output_type": "stream",
     "text": [
      "Max says: Bark\n"
     ]
    }
   ],
   "source": [
    "another_dog.speak()"
   ]
  },
  {
   "cell_type": "code",
   "execution_count": 15,
   "id": "f31fae45-8ea9-49bb-a1c0-12d2a21e6244",
   "metadata": {},
   "outputs": [
    {
     "name": "stdout",
     "output_type": "stream",
     "text": [
      "Puppy says: Bark\n"
     ]
    }
   ],
   "source": [
    "my_dog.speak()\n"
   ]
  },
  {
   "cell_type": "markdown",
   "id": "a89d879f-9044-4e42-920e-4e2d2348699f",
   "metadata": {},
   "source": [
    "# Factorail function"
   ]
  },
  {
   "cell_type": "code",
   "execution_count": 50,
   "id": "b39361aa-889b-4407-a2ca-a0dbd6ce21de",
   "metadata": {},
   "outputs": [],
   "source": [
    "def factorial(num):\n",
    "    if type(num) is not int:\n",
    "        print('Enter valid numeric  value')\n",
    "        return None\n",
    "    if num < 0:\n",
    "        print('Enter valid numeric + value')\n",
    "        return None\n",
    "    if num == 0:\n",
    "       return 1\n",
    "    i = 0\n",
    "    f = 1\n",
    "    while i < num:\n",
    "        i = i + 1\n",
    "        f= f * i\n",
    "    return f"
   ]
  },
  {
   "cell_type": "code",
   "execution_count": 56,
   "id": "46513c28-092f-4ee7-ae44-4f9405f34b81",
   "metadata": {},
   "outputs": [
    {
     "data": {
      "text/plain": [
       "6"
      ]
     },
     "execution_count": 56,
     "metadata": {},
     "output_type": "execute_result"
    }
   ],
   "source": [
    "factorial(3)"
   ]
  },
  {
   "cell_type": "code",
   "execution_count": 52,
   "id": "fcfa1a92-8a3b-41b5-b722-76dd5eb8e8c7",
   "metadata": {},
   "outputs": [],
   "source": [
    "def factorial1(num):\n",
    "    if type(num) is not int:\n",
    "        print('Enter valid numeric  value')\n",
    "        return None\n",
    "    if num < 0:\n",
    "        print('Enter valid numeric + value')\n",
    "        return None\n",
    "    if num == 0:\n",
    "       return 1\n",
    "    \n",
    "    return num * factorial(num-1)"
   ]
  },
  {
   "cell_type": "code",
   "execution_count": 55,
   "id": "0d6df8c7-4173-428f-92c0-c18efa4db0a1",
   "metadata": {},
   "outputs": [
    {
     "data": {
      "text/plain": [
       "6"
      ]
     },
     "execution_count": 55,
     "metadata": {},
     "output_type": "execute_result"
    }
   ],
   "source": [
    "factorial1(3)"
   ]
  },
  {
   "cell_type": "code",
   "execution_count": null,
   "id": "0558f7e5-b504-41df-8c1a-3501d89cf3b8",
   "metadata": {},
   "outputs": [],
   "source": []
  },
  {
   "cell_type": "code",
   "execution_count": null,
   "id": "2e72a672-a821-45bf-85ef-c0b0ecb239fa",
   "metadata": {},
   "outputs": [],
   "source": []
  },
  {
   "cell_type": "code",
   "execution_count": null,
   "id": "f03103db-1674-4427-8923-d964bf9b6cb3",
   "metadata": {},
   "outputs": [],
   "source": []
  },
  {
   "cell_type": "code",
   "execution_count": null,
   "id": "fbbcd444-b7ec-4b1e-9a56-72a48029bea4",
   "metadata": {},
   "outputs": [],
   "source": []
  },
  {
   "cell_type": "code",
   "execution_count": null,
   "id": "97b928ba-6a37-480b-8331-d7771ffd75a1",
   "metadata": {},
   "outputs": [],
   "source": []
  },
  {
   "cell_type": "code",
   "execution_count": null,
   "id": "b68f0275-52a0-478d-ad57-e5847c795ff1",
   "metadata": {},
   "outputs": [],
   "source": []
  },
  {
   "cell_type": "code",
   "execution_count": null,
   "id": "3f8ae6e2-8885-4638-9e77-c4526d45aa7a",
   "metadata": {},
   "outputs": [],
   "source": []
  },
  {
   "cell_type": "code",
   "execution_count": null,
   "id": "260c8b97-6994-4e82-8445-e02589d8c0b5",
   "metadata": {},
   "outputs": [],
   "source": []
  },
  {
   "cell_type": "code",
   "execution_count": null,
   "id": "072c66d9-1ab8-443c-ad5a-9baaa5d8af06",
   "metadata": {},
   "outputs": [],
   "source": []
  }
 ],
 "metadata": {
  "kernelspec": {
   "display_name": "Python 3 (ipykernel)",
   "language": "python",
   "name": "python3"
  },
  "language_info": {
   "codemirror_mode": {
    "name": "ipython",
    "version": 3
   },
   "file_extension": ".py",
   "mimetype": "text/x-python",
   "name": "python",
   "nbconvert_exporter": "python",
   "pygments_lexer": "ipython3",
   "version": "3.10.6"
  }
 },
 "nbformat": 4,
 "nbformat_minor": 5
}
