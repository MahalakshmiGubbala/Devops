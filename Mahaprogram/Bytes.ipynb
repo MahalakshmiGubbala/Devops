{
 "cells": [
  {
   "cell_type": "markdown",
   "id": "e900d08f-ccfa-40de-b51e-3ff68b082b1c",
   "metadata": {},
   "source": [
    "# Bytes"
   ]
  },
  {
   "cell_type": "code",
   "execution_count": 1,
   "id": "3c774cd8-fdf3-409f-be33-c0d6f27fbe44",
   "metadata": {},
   "outputs": [
    {
     "data": {
      "text/plain": [
       "b'\\x00\\x00\\x00\\x00'"
      ]
     },
     "execution_count": 1,
     "metadata": {},
     "output_type": "execute_result"
    }
   ],
   "source": [
    "bytes(4)"
   ]
  },
  {
   "cell_type": "code",
   "execution_count": null,
   "id": "5f44816e-ee0d-44ae-a225-c7bf457efdb5",
   "metadata": {},
   "outputs": [],
   "source": [
    "bytes("
   ]
  },
  {
   "cell_type": "code",
   "execution_count": null,
   "id": "19d6b6f4-a41b-4ee6-ad60-fdae1c499077",
   "metadata": {},
   "outputs": [],
   "source": []
  },
  {
   "cell_type": "markdown",
   "id": "9f8a751c-6ec3-482f-b344-7531e6634ce2",
   "metadata": {},
   "source": [
    "## Converting hexadecimal to decimal"
   ]
  },
  {
   "cell_type": "code",
   "execution_count": 3,
   "id": "e32a3a4d-5f25-43d3-92a7-b0aeea4df00b",
   "metadata": {},
   "outputs": [],
   "source": [
    "hexNumbers ={ '0': 0,'1': 1, '2': 2, '3':3, '4':4,'5':5,'6':6,'7':7, '8':8,'9':9, \n",
    "             'A': 10, 'B':11,'C':12, 'D':13, 'E':14, 'F':15\n",
    "            }"
   ]
  },
  {
   "cell_type": "code",
   "execution_count": 4,
   "id": "cf6192ad-5cd8-4bc7-a40b-510fc6e3865b",
   "metadata": {},
   "outputs": [],
   "source": [
    "def HextoDec(hexanum):\n",
    "    for char in hexanum:\n",
    "        if char not in hexNumbers:\n",
    "            return None\n",
    "    if len(hexanum) == 3:\n",
    "        return hexNumbers[hexanum[0]] * 256 + hexNumbers[hexanum[1]] * 16 + hexNumbers[hexanum[2]] \n",
    "    if len(hexanum) == 2:\n",
    "        return hexNumbers[hexanum[0]] * 16 + hexNumbers[hexanum[1]] \n",
    "    if len(hexanum) == 1:\n",
    "        return hexNumbers[hexanum[0]] "
   ]
  },
  {
   "cell_type": "code",
   "execution_count": 7,
   "id": "4561dd7e-7d61-482f-b187-32246ed5e47c",
   "metadata": {},
   "outputs": [
    {
     "data": {
      "text/plain": [
       "10"
      ]
     },
     "execution_count": 7,
     "metadata": {},
     "output_type": "execute_result"
    }
   ],
   "source": [
    "HextoDec('A')"
   ]
  },
  {
   "cell_type": "code",
   "execution_count": 9,
   "id": "66cb5fd2-d44b-4d3b-bf85-e67884630ee2",
   "metadata": {},
   "outputs": [
    {
     "data": {
      "text/plain": [
       "0"
      ]
     },
     "execution_count": 9,
     "metadata": {},
     "output_type": "execute_result"
    }
   ],
   "source": [
    "HextoDec('0')"
   ]
  },
  {
   "cell_type": "code",
   "execution_count": 26,
   "id": "14d22785-d0fa-4efd-be49-51d5190bf358",
   "metadata": {},
   "outputs": [],
   "source": [
    "def HextoDec(hexanum):\n",
    "    for char in hexanum:\n",
    "        if char not in hexNumbers:\n",
    "            return None\n",
    "    exponent = 0\n",
    "    decimalvalue = 0\n",
    "    for char in hexanum[::-1]:\n",
    "        print(char)\n",
    "        decimalvalue = decimalvalue + hexNumbers[char] * (16 ** exponent)\n",
    "        exponent = exponent +1\n",
    "    return decimalvalue"
   ]
  },
  {
   "cell_type": "code",
   "execution_count": 14,
   "id": "1ce32835-dcd5-49b7-882c-24c3864ac582",
   "metadata": {},
   "outputs": [
    {
     "data": {
      "text/plain": [
       "10"
      ]
     },
     "execution_count": 14,
     "metadata": {},
     "output_type": "execute_result"
    }
   ],
   "source": [
    "HextoDec('A')"
   ]
  },
  {
   "cell_type": "code",
   "execution_count": 15,
   "id": "23420b44-fef4-4b1a-9980-72dc39603dff",
   "metadata": {},
   "outputs": [
    {
     "data": {
      "text/plain": [
       "0"
      ]
     },
     "execution_count": 15,
     "metadata": {},
     "output_type": "execute_result"
    }
   ],
   "source": [
    "HextoDec('0')"
   ]
  },
  {
   "cell_type": "code",
   "execution_count": 16,
   "id": "e8b96081-72ad-4365-9dc7-1aee5c5499f4",
   "metadata": {},
   "outputs": [
    {
     "data": {
      "text/plain": [
       "960"
      ]
     },
     "execution_count": 16,
     "metadata": {},
     "output_type": "execute_result"
    }
   ],
   "source": [
    "HextoDec('3C0')"
   ]
  },
  {
   "cell_type": "code",
   "execution_count": 17,
   "id": "683cae0a-4732-4190-9f11-a445af1be086",
   "metadata": {},
   "outputs": [
    {
     "data": {
      "text/plain": [
       "3979776"
      ]
     },
     "execution_count": 17,
     "metadata": {},
     "output_type": "execute_result"
    }
   ],
   "source": [
    "HextoDec('3CBA00')"
   ]
  },
  {
   "cell_type": "code",
   "execution_count": 27,
   "id": "508c8325-f3aa-466d-8d2d-4a87cf0de5d1",
   "metadata": {},
   "outputs": [
    {
     "name": "stdout",
     "output_type": "stream",
     "text": [
      "0\n",
      "0\n",
      "A\n",
      "B\n",
      "C\n",
      "3\n"
     ]
    },
    {
     "data": {
      "text/plain": [
       "3979776"
      ]
     },
     "execution_count": 27,
     "metadata": {},
     "output_type": "execute_result"
    }
   ],
   "source": [
    "HextoDec('3CBA00')"
   ]
  },
  {
   "cell_type": "code",
   "execution_count": null,
   "id": "ee16bfb9-6ab8-41d1-973e-7c25e0227191",
   "metadata": {},
   "outputs": [],
   "source": []
  }
 ],
 "metadata": {
  "kernelspec": {
   "display_name": "Python 3 (ipykernel)",
   "language": "python",
   "name": "python3"
  },
  "language_info": {
   "codemirror_mode": {
    "name": "ipython",
    "version": 3
   },
   "file_extension": ".py",
   "mimetype": "text/x-python",
   "name": "python",
   "nbconvert_exporter": "python",
   "pygments_lexer": "ipython3",
   "version": "3.10.6"
  }
 },
 "nbformat": 4,
 "nbformat_minor": 5
}
