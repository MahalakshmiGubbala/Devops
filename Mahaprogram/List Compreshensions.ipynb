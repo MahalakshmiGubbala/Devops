{
 "cells": [
  {
   "cell_type": "markdown",
   "id": "1f73ed87-05cb-45a7-a051-8efed11685db",
   "metadata": {},
   "source": [
    "# List Compreshensions"
   ]
  },
  {
   "cell_type": "code",
   "execution_count": 2,
   "id": "9d5afdef-1a97-4df5-aaa4-e94730bc5766",
   "metadata": {},
   "outputs": [
    {
     "data": {
      "text/plain": [
       "[2, 4, 6, 8, 10]"
      ]
     },
     "execution_count": 2,
     "metadata": {},
     "output_type": "execute_result"
    }
   ],
   "source": [
    "mylist=[1,2,3,4,5]\n",
    "[2*item for item in mylist]"
   ]
  },
  {
   "cell_type": "markdown",
   "id": "9fba30df-efb9-4692-9b7b-47091e2644b5",
   "metadata": {},
   "source": [
    "## List Compreshensions with filters "
   ]
  },
  {
   "cell_type": "code",
   "execution_count": 6,
   "id": "091e0996-2037-4bb3-b52d-c395a5f2c430",
   "metadata": {},
   "outputs": [
    {
     "data": {
      "text/plain": [
       "[0, 10, 20, 30, 40, 50, 60, 70, 80, 90]"
      ]
     },
     "execution_count": 6,
     "metadata": {},
     "output_type": "execute_result"
    }
   ],
   "source": [
    "mylist=list(range(100))\n",
    "filteredlist=[item for item in mylist if item%10 == 0]\n",
    "filteredlist"
   ]
  },
  {
   "cell_type": "code",
   "execution_count": 7,
   "id": "4f1cc6f8-53d4-429c-92aa-18ea195b91ee",
   "metadata": {},
   "outputs": [
    {
     "name": "stdout",
     "output_type": "stream",
     "text": [
      "[0, 1, 2, 10, 11, 12, 20, 21, 22, 30, 31, 32, 40, 41, 42, 50, 51, 52, 60, 61, 62, 70, 71, 72, 80, 81, 82, 90, 91, 92]\n"
     ]
    }
   ],
   "source": [
    "filteredlist=[item for item in mylist if item%10 < 3]\n",
    "print (filteredlist)"
   ]
  },
  {
   "cell_type": "markdown",
   "id": "81d35843-729a-475d-98d4-64250bc3251e",
   "metadata": {},
   "source": [
    "## List Compreshensions with functions"
   ]
  },
  {
   "cell_type": "code",
   "execution_count": 10,
   "id": "92b8b844-c19d-412d-993b-e51e67979dec",
   "metadata": {},
   "outputs": [
    {
     "data": {
      "text/plain": [
       "['My name is queen', ' I am happy ', ' joyfull']"
      ]
     },
     "execution_count": 10,
     "metadata": {},
     "output_type": "execute_result"
    }
   ],
   "source": [
    "mystring=\"My name is queen, I am happy , joyfull\"\n",
    "mystring.split(',')"
   ]
  },
  {
   "cell_type": "code",
   "execution_count": 12,
   "id": "f9c8b971-05c7-4d1f-b774-35b8ef45520f",
   "metadata": {},
   "outputs": [
    {
     "data": {
      "text/plain": [
       "['My', 'name', 'is', 'queen,', 'I', 'am', 'happy', ',', 'joyfull']"
      ]
     },
     "execution_count": 12,
     "metadata": {},
     "output_type": "execute_result"
    }
   ],
   "source": [
    "mystring=\"My name is queen, I am happy , joyfull\"\n",
    "mystring.split()"
   ]
  },
  {
   "cell_type": "code",
   "execution_count": 18,
   "id": "490d9026-8ad1-4b2e-8bbd-ca5f1f3d1638",
   "metadata": {},
   "outputs": [
    {
     "data": {
      "text/plain": [
       "['my', 'name', 'is', 'queen', 'i', 'am', 'happy', '', 'joyfull']"
      ]
     },
     "execution_count": 18,
     "metadata": {},
     "output_type": "execute_result"
    }
   ],
   "source": [
    "def cleanword(word):\n",
    "    return word.replace(',','').lower()\n",
    "cleanword(mystring)\n",
    "[cleanword(word) for word in mystring.split()]\n"
   ]
  },
  {
   "cell_type": "code",
   "execution_count": 20,
   "id": "2e610ec0-5c1a-4cc7-af1c-7ff8c4db0d0d",
   "metadata": {},
   "outputs": [
    {
     "data": {
      "text/plain": [
       "['my', 'is', 'i', 'am', '']"
      ]
     },
     "execution_count": 20,
     "metadata": {},
     "output_type": "execute_result"
    }
   ],
   "source": [
    "[cleanword(word) for word in mystring.split() if len(cleanword(word)) < 3]"
   ]
  },
  {
   "cell_type": "code",
   "execution_count": 22,
   "id": "22dda38c-60d4-4cf3-861e-a5d5e16ee476",
   "metadata": {},
   "outputs": [
    {
     "data": {
      "text/plain": [
       "[['my', 'name', 'is', 'queen'], ['i', 'am', 'happy'], ['joyfull']]"
      ]
     },
     "execution_count": 22,
     "metadata": {},
     "output_type": "execute_result"
    }
   ],
   "source": [
    "[[cleanword(word) for word in sentence.split()] for sentence in  mystring.split(',')]"
   ]
  },
  {
   "cell_type": "markdown",
   "id": "71cb0222-3a9a-4d16-8181-dc09639e7346",
   "metadata": {},
   "source": [
    "##  Nested List Compreshensions"
   ]
  },
  {
   "cell_type": "code",
   "execution_count": null,
   "id": "f6aff251-a06b-406a-9677-c598b96cb024",
   "metadata": {},
   "outputs": [],
   "source": []
  }
 ],
 "metadata": {
  "kernelspec": {
   "display_name": "Python 3 (ipykernel)",
   "language": "python",
   "name": "python3"
  },
  "language_info": {
   "codemirror_mode": {
    "name": "ipython",
    "version": 3
   },
   "file_extension": ".py",
   "mimetype": "text/x-python",
   "name": "python",
   "nbconvert_exporter": "python",
   "pygments_lexer": "ipython3",
   "version": "3.10.6"
  }
 },
 "nbformat": 4,
 "nbformat_minor": 5
}
