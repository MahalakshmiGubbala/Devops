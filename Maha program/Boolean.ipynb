{
 "cells": [
  {
   "cell_type": "markdown",
   "id": "086b1f18-f695-4bba-900d-ae7e8a09c041",
   "metadata": {},
   "source": [
    "# Booleans"
   ]
  },
  {
   "cell_type": "markdown",
   "id": "d6263fdf-217f-41ec-a6db-323a10994b8f",
   "metadata": {},
   "source": [
    "## Casting Booleans"
   ]
  },
  {
   "cell_type": "code",
   "execution_count": 1,
   "id": "72c244ed-eafe-4803-b312-311a1f8b58a5",
   "metadata": {},
   "outputs": [
    {
     "data": {
      "text/plain": [
       "True"
      ]
     },
     "execution_count": 1,
     "metadata": {},
     "output_type": "execute_result"
    }
   ],
   "source": [
    "bool(1)"
   ]
  },
  {
   "cell_type": "code",
   "execution_count": 2,
   "id": "53cb9ce6-08e9-450a-961b-f10a7a3f72d4",
   "metadata": {},
   "outputs": [
    {
     "data": {
      "text/plain": [
       "False"
      ]
     },
     "execution_count": 2,
     "metadata": {},
     "output_type": "execute_result"
    }
   ],
   "source": [
    "bool(0)"
   ]
  },
  {
   "cell_type": "code",
   "execution_count": 3,
   "id": "1effec39-c777-4865-84e9-80c90e408a59",
   "metadata": {},
   "outputs": [
    {
     "data": {
      "text/plain": [
       "True"
      ]
     },
     "execution_count": 3,
     "metadata": {},
     "output_type": "execute_result"
    }
   ],
   "source": [
    "bool(-1)"
   ]
  },
  {
   "cell_type": "code",
   "execution_count": 4,
   "id": "776c2255-47fb-4e08-9b62-70b6403a589e",
   "metadata": {},
   "outputs": [
    {
     "data": {
      "text/plain": [
       "True"
      ]
     },
     "execution_count": 4,
     "metadata": {},
     "output_type": "execute_result"
    }
   ],
   "source": [
    "bool(1j)"
   ]
  },
  {
   "cell_type": "code",
   "execution_count": 5,
   "id": "e77887fb-ed8f-445b-8771-6be5e31af060",
   "metadata": {},
   "outputs": [
    {
     "data": {
      "text/plain": [
       "False"
      ]
     },
     "execution_count": 5,
     "metadata": {},
     "output_type": "execute_result"
    }
   ],
   "source": [
    "bool(0.0)"
   ]
  },
  {
   "cell_type": "code",
   "execution_count": 6,
   "id": "977bd817-8a03-49ea-9e2e-df933b0a1e9d",
   "metadata": {},
   "outputs": [
    {
     "data": {
      "text/plain": [
       "False"
      ]
     },
     "execution_count": 6,
     "metadata": {},
     "output_type": "execute_result"
    }
   ],
   "source": [
    "bool(0j)"
   ]
  },
  {
   "cell_type": "code",
   "execution_count": 7,
   "id": "c0dcfce3-4fef-4aee-bd3c-1c308fabade3",
   "metadata": {},
   "outputs": [
    {
     "data": {
      "text/plain": [
       "True"
      ]
     },
     "execution_count": 7,
     "metadata": {},
     "output_type": "execute_result"
    }
   ],
   "source": [
    "bool('True')"
   ]
  },
  {
   "cell_type": "code",
   "execution_count": 8,
   "id": "35fc1b06-a660-4c98-b132-4bffeb31832a",
   "metadata": {},
   "outputs": [
    {
     "data": {
      "text/plain": [
       "True"
      ]
     },
     "execution_count": 8,
     "metadata": {},
     "output_type": "execute_result"
    }
   ],
   "source": [
    "bool('False')"
   ]
  },
  {
   "cell_type": "code",
   "execution_count": 9,
   "id": "e84988ea-91e2-444c-a9f5-fd5f1c7642b1",
   "metadata": {},
   "outputs": [
    {
     "data": {
      "text/plain": [
       "False"
      ]
     },
     "execution_count": 9,
     "metadata": {},
     "output_type": "execute_result"
    }
   ],
   "source": [
    "bool(\"\")"
   ]
  },
  {
   "cell_type": "code",
   "execution_count": 10,
   "id": "98135717-d486-4178-9e78-d6bf29b01d82",
   "metadata": {},
   "outputs": [
    {
     "data": {
      "text/plain": [
       "True"
      ]
     },
     "execution_count": 10,
     "metadata": {},
     "output_type": "execute_result"
    }
   ],
   "source": [
    "bool(' ')"
   ]
  },
  {
   "cell_type": "code",
   "execution_count": 11,
   "id": "d77dfa96-7b8a-4622-96bb-34805bbdf0e8",
   "metadata": {},
   "outputs": [
    {
     "data": {
      "text/plain": [
       "False"
      ]
     },
     "execution_count": 11,
     "metadata": {},
     "output_type": "execute_result"
    }
   ],
   "source": [
    "bool([])"
   ]
  },
  {
   "cell_type": "code",
   "execution_count": 12,
   "id": "6f4adbcf-e8c1-4aad-bce6-05c7ef6c6d12",
   "metadata": {},
   "outputs": [
    {
     "data": {
      "text/plain": [
       "False"
      ]
     },
     "execution_count": 12,
     "metadata": {},
     "output_type": "execute_result"
    }
   ],
   "source": [
    "bool({})"
   ]
  },
  {
   "cell_type": "code",
   "execution_count": 13,
   "id": "a9e850e8-06ef-423f-b545-52f8447c074d",
   "metadata": {},
   "outputs": [
    {
     "data": {
      "text/plain": [
       "True"
      ]
     },
     "execution_count": 13,
     "metadata": {},
     "output_type": "execute_result"
    }
   ],
   "source": [
    "bool([1,2])"
   ]
  },
  {
   "cell_type": "code",
   "execution_count": 14,
   "id": "afbacfbb-2138-4c9e-a306-1bf2f0eb9f92",
   "metadata": {},
   "outputs": [
    {
     "data": {
      "text/plain": [
       "False"
      ]
     },
     "execution_count": 14,
     "metadata": {},
     "output_type": "execute_result"
    }
   ],
   "source": [
    "bool(None)"
   ]
  },
  {
   "cell_type": "code",
   "execution_count": 15,
   "id": "51bdf880-a859-4963-83a4-ce21d6ee2fe3",
   "metadata": {},
   "outputs": [
    {
     "name": "stdout",
     "output_type": "stream",
     "text": [
      "it has some values\n"
     ]
    }
   ],
   "source": [
    "mylist=[1,23]\n",
    "if mylist:\n",
    "    print('it has some values')"
   ]
  },
  {
   "cell_type": "code",
   "execution_count": 16,
   "id": "97db07da-b4f3-49cd-93eb-88f6049426a0",
   "metadata": {},
   "outputs": [
    {
     "name": "stdout",
     "output_type": "stream",
     "text": [
      "it has some values\n"
     ]
    }
   ],
   "source": [
    "mylist=[1,23]\n",
    "if bool(mylist):\n",
    "    print('it has some values')"
   ]
  },
  {
   "cell_type": "code",
   "execution_count": 18,
   "id": "29575e59-ede3-4333-b47b-29a2f89df094",
   "metadata": {
    "jp-MarkdownHeadingCollapsed": true
   },
   "outputs": [
    {
     "name": "stdout",
     "output_type": "stream",
     "text": [
      " the numbers are not equal\n"
     ]
    }
   ],
   "source": [
    "a = 5\n",
    "b = 4\n",
    "if a-b:\n",
    "   print(' the numbers are not equal')"
   ]
  },
  {
   "cell_type": "code",
   "execution_count": 19,
   "id": "3855e2e4-75de-4b4e-9b81-d3939d2a8273",
   "metadata": {},
   "outputs": [
    {
     "data": {
      "text/plain": [
       "False"
      ]
     },
     "execution_count": 19,
     "metadata": {},
     "output_type": "execute_result"
    }
   ],
   "source": [
    "a == b"
   ]
  },
  {
   "cell_type": "markdown",
   "id": "f5b5d730-a3a0-4e21-b39f-ceb318a73964",
   "metadata": {},
   "source": [
    "## Boolean Logic"
   ]
  },
  {
   "cell_type": "code",
   "execution_count": 23,
   "id": "61b8faa5-0ef7-4bde-9e91-38398123f287",
   "metadata": {},
   "outputs": [
    {
     "name": "stdout",
     "output_type": "stream",
     "text": [
      "go for a walk\n"
     ]
    }
   ],
   "source": [
    "weatherisnice= False\n",
    "haveumberlla = True\n",
    "if (not haveumberlla) or weatherisnice:\n",
    "   print('stay inside')\n",
    "else:\n",
    "    print('go for a walk')\n",
    "    "
   ]
  },
  {
   "cell_type": "code",
   "execution_count": 25,
   "id": "f9773f0d-767f-4710-9dc6-a32542659280",
   "metadata": {},
   "outputs": [
    {
     "name": "stdout",
     "output_type": "stream",
     "text": [
      "go for a walk\n"
     ]
    }
   ],
   "source": [
    "weatherisnice= False\n",
    "haveumberlla = True\n",
    "if not (haveumberlla or weatherisnice):\n",
    "   print('stay inside')\n",
    "else:\n",
    "    print('go for a walk')"
   ]
  },
  {
   "cell_type": "code",
   "execution_count": 26,
   "id": "3c548948-de0d-44d9-b9a7-abe0110713c1",
   "metadata": {},
   "outputs": [
    {
     "name": "stdout",
     "output_type": "stream",
     "text": [
      "stay inside\n"
     ]
    }
   ],
   "source": [
    "weatherisnice= False\n",
    "haveumberlla = True\n",
    "if  (haveumberlla or weatherisnice):\n",
    "   print('stay inside')\n",
    "else:\n",
    "    print('go for a walk')"
   ]
  },
  {
   "cell_type": "code",
   "execution_count": 27,
   "id": "bc4cd7e8-8682-44be-80b6-b071dbc75e58",
   "metadata": {},
   "outputs": [
    {
     "name": "stdout",
     "output_type": "stream",
     "text": [
      "go for a walk\n"
     ]
    }
   ],
   "source": [
    "weatherisnice= False\n",
    "haveumberlla = True\n",
    "if  not haveumberlla and  not weatherisnice:\n",
    "   print('stay inside')\n",
    "else:\n",
    "    print('go for a walk')"
   ]
  },
  {
   "cell_type": "code",
   "execution_count": 28,
   "id": "1230fecb-6604-4420-9594-c7a646a464be",
   "metadata": {},
   "outputs": [
    {
     "name": "stdout",
     "output_type": "stream",
     "text": [
      "go for a walk\n"
     ]
    }
   ],
   "source": [
    "weatherisnice= False\n",
    "haveumberlla = True\n",
    "if  haveumberlla or weatherisnice:\n",
    "    print('go for a walk')\n",
    "else:\n",
    "    print('stay inside')\n",
    "   "
   ]
  },
  {
   "cell_type": "code",
   "execution_count": null,
   "id": "886e7e02-9e55-4f97-9dd4-e976c4e15ceb",
   "metadata": {},
   "outputs": [],
   "source": []
  }
 ],
 "metadata": {
  "kernelspec": {
   "display_name": "Python 3 (ipykernel)",
   "language": "python",
   "name": "python3"
  },
  "language_info": {
   "codemirror_mode": {
    "name": "ipython",
    "version": 3
   },
   "file_extension": ".py",
   "mimetype": "text/x-python",
   "name": "python",
   "nbconvert_exporter": "python",
   "pygments_lexer": "ipython3",
   "version": "3.10.6"
  }
 },
 "nbformat": 4,
 "nbformat_minor": 5
}
