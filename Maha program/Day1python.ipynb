{
 "cells": [
  {
   "cell_type": "markdown",
   "id": "d9d586ab-b420-4cc8-80ee-ec991f308e48",
   "metadata": {},
   "source": [
    "# Python Programming\n",
    "\n",
    "## Learnign stated"
   ]
  },
  {
   "cell_type": "code",
   "execution_count": 3,
   "id": "880b3b2b-7c59-4e1c-a56b-3c7adbe344f5",
   "metadata": {},
   "outputs": [
    {
     "name": "stdout",
     "output_type": "stream",
     "text": [
      "Hellow World!\n"
     ]
    }
   ],
   "source": [
    "print(\"Hellow World!\")"
   ]
  },
  {
   "cell_type": "code",
   "execution_count": 1,
   "id": "90ff7be2-8f85-446f-a335-7dd795be5d93",
   "metadata": {},
   "outputs": [
    {
     "name": "stdout",
     "output_type": "stream",
     "text": [
      "opened in VSC\n"
     ]
    }
   ],
   "source": [
    "\n",
    "print(\"opened in VSC\")"
   ]
  },
  {
   "cell_type": "code",
   "execution_count": 2,
   "id": "965d4607-0827-470f-9aa2-c704eb6a1a6b",
   "metadata": {},
   "outputs": [
    {
     "name": "stdout",
     "output_type": "stream",
     "text": [
      "Doing some data science\n"
     ]
    }
   ],
   "source": [
    "print(\"Doing some data science\")"
   ]
  },
  {
   "cell_type": "markdown",
   "id": "12efb4c2-49de-42e8-bc15-29751dd01a73",
   "metadata": {},
   "source": [
    "# Basic Data types\n",
    "## Defining A Varaible "
   ]
  },
  {
   "cell_type": "code",
   "execution_count": 3,
   "id": "30750a01-5745-4348-bee7-df7e9e1bb1c6",
   "metadata": {},
   "outputs": [],
   "source": [
    "x=5"
   ]
  },
  {
   "cell_type": "code",
   "execution_count": 4,
   "id": "5e598372-9f34-4729-b1ad-bb13aa421f48",
   "metadata": {},
   "outputs": [
    {
     "name": "stdout",
     "output_type": "stream",
     "text": [
      "5\n"
     ]
    }
   ],
   "source": [
    "print(x)"
   ]
  },
  {
   "cell_type": "code",
   "execution_count": 5,
   "id": "69bc53b6-c08a-44f2-a110-7af4f8dcac4d",
   "metadata": {},
   "outputs": [
    {
     "data": {
      "text/plain": [
       "5"
      ]
     },
     "execution_count": 5,
     "metadata": {},
     "output_type": "execute_result"
    }
   ],
   "source": [
    "x"
   ]
  },
  {
   "cell_type": "code",
   "execution_count": 6,
   "id": "8c328182-33d0-4d69-90c6-ad32d524e087",
   "metadata": {},
   "outputs": [],
   "source": [
    "name =\"Rayn\""
   ]
  },
  {
   "cell_type": "code",
   "execution_count": 7,
   "id": "f9610d94-fb5b-4c05-b4d8-0686b6a25a2f",
   "metadata": {},
   "outputs": [
    {
     "name": "stdout",
     "output_type": "stream",
     "text": [
      "Rayn\n"
     ]
    }
   ],
   "source": [
    "print(name)"
   ]
  },
  {
   "cell_type": "code",
   "execution_count": 8,
   "id": "a5a087f3-bdc7-47d0-b4ad-c6dc3d3dc506",
   "metadata": {},
   "outputs": [
    {
     "data": {
      "text/plain": [
       "str"
      ]
     },
     "execution_count": 8,
     "metadata": {},
     "output_type": "execute_result"
    }
   ],
   "source": [
    "type(name)"
   ]
  },
  {
   "cell_type": "code",
   "execution_count": 9,
   "id": "963c639c-bcdf-4061-aa0f-de22873bbfa8",
   "metadata": {},
   "outputs": [
    {
     "data": {
      "text/plain": [
       "int"
      ]
     },
     "execution_count": 9,
     "metadata": {},
     "output_type": "execute_result"
    }
   ],
   "source": [
    "type(x)"
   ]
  },
  {
   "cell_type": "markdown",
   "id": "705b7746-887e-4145-b2ec-ee31d679e2e8",
   "metadata": {},
   "source": [
    "# Numbers"
   ]
  },
  {
   "cell_type": "code",
   "execution_count": 10,
   "id": "8feb5f18-665d-4ed2-a4ba-c406b9ed7677",
   "metadata": {},
   "outputs": [
    {
     "data": {
      "text/plain": [
       "float"
      ]
     },
     "execution_count": 10,
     "metadata": {},
     "output_type": "execute_result"
    }
   ],
   "source": [
    "type(1.5)"
   ]
  },
  {
   "cell_type": "code",
   "execution_count": 11,
   "id": "693c0996-bed6-419e-989d-a3583803f259",
   "metadata": {},
   "outputs": [
    {
     "data": {
      "text/plain": [
       "complex"
      ]
     },
     "execution_count": 11,
     "metadata": {},
     "output_type": "execute_result"
    }
   ],
   "source": [
    "type(2j)"
   ]
  },
  {
   "cell_type": "markdown",
   "id": "0e7c20ac-6e81-4845-b40f-3a7960b8d7f0",
   "metadata": {},
   "source": [
    "# Strings"
   ]
  },
  {
   "cell_type": "code",
   "execution_count": 12,
   "id": "fbe3e832-b8b5-4d5e-9fd0-d7a360eef943",
   "metadata": {},
   "outputs": [
    {
     "data": {
      "text/plain": [
       "'String 1String 2'"
      ]
     },
     "execution_count": 12,
     "metadata": {},
     "output_type": "execute_result"
    }
   ],
   "source": [
    "'String 1'+'String 2'"
   ]
  },
  {
   "cell_type": "code",
   "execution_count": 13,
   "id": "c4655417-6ea1-47c9-a358-716a2f986b93",
   "metadata": {},
   "outputs": [
    {
     "data": {
      "text/plain": [
       "'11'"
      ]
     },
     "execution_count": 13,
     "metadata": {},
     "output_type": "execute_result"
    }
   ],
   "source": [
    "'1'+'1'"
   ]
  },
  {
   "cell_type": "code",
   "execution_count": 14,
   "id": "80743fc4-ac01-4f2d-9b3f-32659edbf329",
   "metadata": {},
   "outputs": [
    {
     "ename": "TypeError",
     "evalue": "can only concatenate str (not \"int\") to str",
     "output_type": "error",
     "traceback": [
      "\u001b[1;31m---------------------------------------------------------------------------\u001b[0m",
      "\u001b[1;31mTypeError\u001b[0m                                 Traceback (most recent call last)",
      "Cell \u001b[1;32mIn[14], line 1\u001b[0m\n\u001b[1;32m----> 1\u001b[0m \u001b[38;5;124;43m'\u001b[39;49m\u001b[38;5;124;43m1\u001b[39;49m\u001b[38;5;124;43m'\u001b[39;49m\u001b[38;5;241;43m+\u001b[39;49m\u001b[38;5;241;43m1\u001b[39;49m\n",
      "\u001b[1;31mTypeError\u001b[0m: can only concatenate str (not \"int\") to str"
     ]
    }
   ],
   "source": [
    "'1'+1"
   ]
  },
  {
   "cell_type": "markdown",
   "id": "d0fb4c57-725c-4b0c-91d0-4357eb4c73c4",
   "metadata": {},
   "source": [
    "# Boolean"
   ]
  },
  {
   "cell_type": "code",
   "execution_count": 15,
   "id": "c28ff876-278a-4409-b47a-0b47e2bfe99a",
   "metadata": {},
   "outputs": [
    {
     "data": {
      "text/plain": [
       "True"
      ]
     },
     "execution_count": 15,
     "metadata": {},
     "output_type": "execute_result"
    }
   ],
   "source": [
    "True\n"
   ]
  },
  {
   "cell_type": "code",
   "execution_count": 16,
   "id": "9c220969-12f5-4c9d-9ac0-06864d5578e5",
   "metadata": {},
   "outputs": [
    {
     "data": {
      "text/plain": [
       "False"
      ]
     },
     "execution_count": 16,
     "metadata": {},
     "output_type": "execute_result"
    }
   ],
   "source": [
    "False"
   ]
  },
  {
   "cell_type": "code",
   "execution_count": 17,
   "id": "1b36b6a5-1c1d-4865-8f97-c7b9b87ef752",
   "metadata": {},
   "outputs": [
    {
     "ename": "NameError",
     "evalue": "name 'true' is not defined",
     "output_type": "error",
     "traceback": [
      "\u001b[1;31m---------------------------------------------------------------------------\u001b[0m",
      "\u001b[1;31mNameError\u001b[0m                                 Traceback (most recent call last)",
      "Cell \u001b[1;32mIn[17], line 1\u001b[0m\n\u001b[1;32m----> 1\u001b[0m \u001b[43mtrue\u001b[49m\n",
      "\u001b[1;31mNameError\u001b[0m: name 'true' is not defined"
     ]
    }
   ],
   "source": [
    "true"
   ]
  },
  {
   "cell_type": "code",
   "execution_count": 18,
   "id": "4bf0f8cc-e80c-4c61-b954-e0656ecbfcb7",
   "metadata": {},
   "outputs": [
    {
     "data": {
      "text/plain": [
       "True"
      ]
     },
     "execution_count": 18,
     "metadata": {},
     "output_type": "execute_result"
    }
   ],
   "source": [
    "1==1"
   ]
  },
  {
   "cell_type": "code",
   "execution_count": 19,
   "id": "a141e416-4aed-49d7-b325-0f30ac9b63c9",
   "metadata": {},
   "outputs": [
    {
     "data": {
      "text/plain": [
       "False"
      ]
     },
     "execution_count": 19,
     "metadata": {},
     "output_type": "execute_result"
    }
   ],
   "source": [
    "1==2"
   ]
  },
  {
   "cell_type": "markdown",
   "id": "397687f3-884a-4fce-a494-cb5f0ee7baf3",
   "metadata": {},
   "source": [
    "## Data Structues \n",
    "# Lists"
   ]
  },
  {
   "cell_type": "code",
   "execution_count": 33,
   "id": "7fb63100-7181-4831-a3bd-a6dd960d51a2",
   "metadata": {},
   "outputs": [],
   "source": [
    "my_list = [1,2,3,4]"
   ]
  },
  {
   "cell_type": "code",
   "execution_count": 34,
   "id": "4268bee2-c8aa-44db-bbfe-0bf02c7377f2",
   "metadata": {},
   "outputs": [
    {
     "name": "stdout",
     "output_type": "stream",
     "text": [
      "[1, 2, 3, 4]\n"
     ]
    }
   ],
   "source": [
    "print(my_list)"
   ]
  },
  {
   "cell_type": "code",
   "execution_count": 35,
   "id": "42af6263-c013-4df3-9e8e-bd29267573a1",
   "metadata": {},
   "outputs": [
    {
     "data": {
      "text/plain": [
       "list"
      ]
     },
     "execution_count": 35,
     "metadata": {},
     "output_type": "execute_result"
    }
   ],
   "source": [
    "type(my_list)"
   ]
  },
  {
   "cell_type": "code",
   "execution_count": 36,
   "id": "119c4972-023a-4519-bd4f-81bf08b1dc56",
   "metadata": {},
   "outputs": [
    {
     "data": {
      "text/plain": [
       "4"
      ]
     },
     "execution_count": 36,
     "metadata": {},
     "output_type": "execute_result"
    }
   ],
   "source": [
    "len(my_list)"
   ]
  },
  {
   "cell_type": "code",
   "execution_count": 37,
   "id": "11bcb52c-2dc4-476c-9e3e-1f8138790b1a",
   "metadata": {},
   "outputs": [],
   "source": [
    "my_list = ['list','of','stings']"
   ]
  },
  {
   "cell_type": "code",
   "execution_count": 38,
   "id": "4103a6c3-3cca-4c14-862f-b9ce93ae1a99",
   "metadata": {},
   "outputs": [
    {
     "name": "stdout",
     "output_type": "stream",
     "text": [
      "['list', 'of', 'stings']\n"
     ]
    }
   ],
   "source": [
    "print(my_list)"
   ]
  },
  {
   "cell_type": "code",
   "execution_count": 39,
   "id": "b7f52476-3e3a-4063-ad02-e06f5a196f75",
   "metadata": {},
   "outputs": [
    {
     "data": {
      "text/plain": [
       "3"
      ]
     },
     "execution_count": 39,
     "metadata": {},
     "output_type": "execute_result"
    }
   ],
   "source": [
    "len(my_list)"
   ]
  },
  {
   "cell_type": "code",
   "execution_count": 40,
   "id": "427517c7-a036-4594-b1b2-30ba93e7ff2a",
   "metadata": {},
   "outputs": [],
   "source": [
    "my_list = [1,[5,5,5],'list','of','stings',[1,1,1],False,True]"
   ]
  },
  {
   "cell_type": "code",
   "execution_count": 41,
   "id": "c293bf94-063b-400f-b118-7ccfb87f720c",
   "metadata": {},
   "outputs": [
    {
     "name": "stdout",
     "output_type": "stream",
     "text": [
      "[1, [5, 5, 5], 'list', 'of', 'stings', [1, 1, 1], False, True]\n"
     ]
    }
   ],
   "source": [
    "print(my_list)"
   ]
  },
  {
   "cell_type": "code",
   "execution_count": 42,
   "id": "3c1e289b-0db8-43b9-b24f-f5d6068214b2",
   "metadata": {},
   "outputs": [
    {
     "data": {
      "text/plain": [
       "8"
      ]
     },
     "execution_count": 42,
     "metadata": {},
     "output_type": "execute_result"
    }
   ],
   "source": [
    "len(my_list)"
   ]
  },
  {
   "cell_type": "markdown",
   "id": "62ccee42-c0f5-4a85-9c6d-45df5335f512",
   "metadata": {},
   "source": [
    "# Sets"
   ]
  },
  {
   "cell_type": "code",
   "execution_count": 47,
   "id": "6b51decf-e644-4864-a77e-e3940f763198",
   "metadata": {},
   "outputs": [],
   "source": [
    "my_set = {1,2,3,4}"
   ]
  },
  {
   "cell_type": "code",
   "execution_count": null,
   "id": "86bb7e8f-43dc-4690-9e86-fed6197a351a",
   "metadata": {},
   "outputs": [],
   "source": [
    "print(my_set)"
   ]
  },
  {
   "cell_type": "code",
   "execution_count": null,
   "id": "d2b88d50-8be0-494f-b2eb-75b2bb100ba5",
   "metadata": {},
   "outputs": [],
   "source": [
    "\n",
    "len(my_set)"
   ]
  },
  {
   "cell_type": "code",
   "execution_count": 46,
   "id": "d1b4d570-2ec4-4ce0-990d-7310e96447af",
   "metadata": {
    "scrolled": true
   },
   "outputs": [
    {
     "data": {
      "text/plain": [
       "set"
      ]
     },
     "execution_count": 46,
     "metadata": {},
     "output_type": "execute_result"
    }
   ],
   "source": [
    "type(my_set)"
   ]
  },
  {
   "cell_type": "code",
   "execution_count": null,
   "id": "2025909c-d045-4377-99a4-b9c6ffa639f5",
   "metadata": {},
   "outputs": [],
   "source": []
  },
  {
   "cell_type": "code",
   "execution_count": 51,
   "id": "1cf9bd2f-87fe-40ee-aba1-6ecfc2fbc250",
   "metadata": {},
   "outputs": [],
   "source": [
    "my_set = {1,1,2,3,3,5,4}"
   ]
  },
  {
   "cell_type": "code",
   "execution_count": 52,
   "id": "551a4e66-05a3-4127-b7e2-c569a9960e76",
   "metadata": {},
   "outputs": [
    {
     "name": "stdout",
     "output_type": "stream",
     "text": [
      "{1, 2, 3, 4, 5}\n"
     ]
    }
   ],
   "source": [
    "print(my_set)"
   ]
  },
  {
   "cell_type": "code",
   "execution_count": 53,
   "id": "a0671b5a-1d66-4d4e-890c-7c534eddee7a",
   "metadata": {},
   "outputs": [
    {
     "data": {
      "text/plain": [
       "5"
      ]
     },
     "execution_count": 53,
     "metadata": {},
     "output_type": "execute_result"
    }
   ],
   "source": [
    "len(my_set)"
   ]
  },
  {
   "cell_type": "markdown",
   "id": "63776b12-faba-4e36-b5ce-9e711e08dcd2",
   "metadata": {},
   "source": [
    "# Tuples"
   ]
  },
  {
   "cell_type": "code",
   "execution_count": 6,
   "id": "e4e6aa49-6031-4c38-9ea5-c8edbf01463d",
   "metadata": {},
   "outputs": [
    {
     "name": "stdout",
     "output_type": "stream",
     "text": [
      "{1, 2, 3, 4}\n"
     ]
    },
    {
     "data": {
      "text/plain": [
       "4"
      ]
     },
     "execution_count": 6,
     "metadata": {},
     "output_type": "execute_result"
    }
   ],
   "source": [
    "my_tuple = {1,2,3,4}\n",
    "print(my_tuple)\n",
    "\n",
    "len(my_tuple)"
   ]
  },
  {
   "cell_type": "code",
   "execution_count": 3,
   "id": "e08d3117-d0e9-4a2d-81f6-df80e6dce9f3",
   "metadata": {},
   "outputs": [
    {
     "data": {
      "text/plain": [
       "False"
      ]
     },
     "execution_count": 3,
     "metadata": {},
     "output_type": "execute_result"
    }
   ],
   "source": [
    "(1,2) == (2,1)"
   ]
  },
  {
   "cell_type": "code",
   "execution_count": 5,
   "id": "ac7fe5e7-d796-4936-9351-2cd7e4f71828",
   "metadata": {},
   "outputs": [
    {
     "name": "stdout",
     "output_type": "stream",
     "text": [
      "[1, 2, 3, 4, 4]\n"
     ]
    }
   ],
   "source": [
    "my_list = [1,2,3,4]\n",
    "my_list.append(4)\n",
    "print(my_list)"
   ]
  },
  {
   "cell_type": "code",
   "execution_count": 7,
   "id": "f70feccd-206f-4ec7-b841-66fa36a60922",
   "metadata": {},
   "outputs": [
    {
     "ename": "AttributeError",
     "evalue": "'set' object has no attribute 'append'",
     "output_type": "error",
     "traceback": [
      "\u001b[1;31m---------------------------------------------------------------------------\u001b[0m",
      "\u001b[1;31mAttributeError\u001b[0m                            Traceback (most recent call last)",
      "Cell \u001b[1;32mIn[7], line 1\u001b[0m\n\u001b[1;32m----> 1\u001b[0m \u001b[43mmy_tuple\u001b[49m\u001b[38;5;241;43m.\u001b[39;49m\u001b[43mappend\u001b[49m(\u001b[38;5;241m4\u001b[39m)\n",
      "\u001b[1;31mAttributeError\u001b[0m: 'set' object has no attribute 'append'"
     ]
    }
   ],
   "source": [
    "my_tuple.append(4)\n"
   ]
  },
  {
   "cell_type": "markdown",
   "id": "1a4fea47-ff3c-442a-8b93-d6d2a9482979",
   "metadata": {},
   "source": [
    "# Dictionaries"
   ]
  },
  {
   "cell_type": "code",
   "execution_count": 12,
   "id": "d8c174a0-e1e2-4a02-91b9-d3784475ddfd",
   "metadata": {},
   "outputs": [],
   "source": [
    "my_dictionary = {\n",
    "    'apple' : 'A red fruit',\n",
    "    'Banana' : 'yellow fruit'\n",
    "}"
   ]
  },
  {
   "cell_type": "code",
   "execution_count": 13,
   "id": "b926e2f1-c404-4b23-ae2b-d8a9495e3b50",
   "metadata": {},
   "outputs": [
    {
     "data": {
      "text/plain": [
       "'A red fruit'"
      ]
     },
     "execution_count": 13,
     "metadata": {},
     "output_type": "execute_result"
    }
   ],
   "source": [
    "my_dictionary['apple']"
   ]
  },
  {
   "cell_type": "code",
   "execution_count": 14,
   "id": "6819578e-d5ae-432b-920e-55ac5a45263b",
   "metadata": {},
   "outputs": [],
   "source": [
    "my_dictionary = {\n",
    "    'apple' : 'A red fruit',\n",
    "    'Banana' : 'yellow fruit',\n",
    "      'apple' : 'A red fruit appended'\n",
    "}"
   ]
  },
  {
   "cell_type": "code",
   "execution_count": 15,
   "id": "b6293d7d-447d-4e00-8c50-afdde0d5bad1",
   "metadata": {},
   "outputs": [
    {
     "data": {
      "text/plain": [
       "'A red fruit appended'"
      ]
     },
     "execution_count": 15,
     "metadata": {},
     "output_type": "execute_result"
    }
   ],
   "source": [
    "my_dictionary['apple']"
   ]
  },
  {
   "cell_type": "code",
   "execution_count": null,
   "id": "35f82d38-ae02-4e76-9258-8bfafd6a9a13",
   "metadata": {},
   "outputs": [],
   "source": []
  }
 ],
 "metadata": {
  "kernelspec": {
   "display_name": "Python 3 (ipykernel)",
   "language": "python",
   "name": "python3"
  },
  "language_info": {
   "codemirror_mode": {
    "name": "ipython",
    "version": 3
   },
   "file_extension": ".py",
   "mimetype": "text/x-python",
   "name": "python",
   "nbconvert_exporter": "python",
   "pygments_lexer": "ipython3",
   "version": "3.10.6"
  },
  "vscode": {
   "interpreter": {
    "hash": "6239260ae8ade0f6172c6062879a60ccb38d7a6708217edbcee19007ae8eb41d"
   }
  }
 },
 "nbformat": 4,
 "nbformat_minor": 5
}
