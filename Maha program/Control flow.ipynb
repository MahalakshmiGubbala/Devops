{
 "cells": [
  {
   "cell_type": "markdown",
   "id": "79b96db3-c24f-442a-9c68-91260c479521",
   "metadata": {},
   "source": [
    "# Control flow"
   ]
  },
  {
   "cell_type": "markdown",
   "id": "4f12e31a-9ef4-4bb0-8546-1f37f7ba3a91",
   "metadata": {},
   "source": [
    "## if else"
   ]
  },
  {
   "cell_type": "code",
   "execution_count": 7,
   "id": "be4df827-3325-4fd1-a007-93b5d52486ac",
   "metadata": {},
   "outputs": [
    {
     "name": "stdout",
     "output_type": "stream",
     "text": [
      "It is True\n",
      "Also print this\n",
      "Always print this\n"
     ]
    }
   ],
   "source": [
    "a= True\n",
    "if a:\n",
    "    print('It is True')\n",
    "    print('Also print this')\n",
    "else: \n",
    "    print ('it is else statemnt')\n",
    "print('Always print this')"
   ]
  },
  {
   "cell_type": "code",
   "execution_count": 13,
   "id": "99d90998-529c-49bd-90f5-e9d96f3f2de6",
   "metadata": {},
   "outputs": [
    {
     "name": "stdout",
     "output_type": "stream",
     "text": [
      "it is else statemnt\n",
      "Always print this\n"
     ]
    }
   ],
   "source": [
    "a= False\n",
    "b = True\n",
    "if a:\n",
    "    print('It is True')\n",
    "    print('Also print this')\n",
    "    if b:\n",
    "        print ('Both are true')\n",
    "else: \n",
    "    print ('it is else statemnt')\n",
    "print('Always print this')"
   ]
  },
  {
   "cell_type": "code",
   "execution_count": 15,
   "id": "f275b90e-1aff-4c47-a97d-5760ac972fd0",
   "metadata": {},
   "outputs": [
    {
     "name": "stdout",
     "output_type": "stream",
     "text": [
      "It is True\n",
      "Also print this\n",
      "Both are true\n",
      "All three variables are true\n",
      "Always print this\n"
     ]
    }
   ],
   "source": [
    "a= True\n",
    "b = True\n",
    "c = True \n",
    "if a:\n",
    "    print('It is True')\n",
    "    print('Also print this')\n",
    "    if b:\n",
    "        print ('Both are true')\n",
    "        if c:\n",
    "            print('All three variables are true')\n",
    "else: \n",
    "    print ('it is else statemnt')\n",
    "print('Always print this')"
   ]
  },
  {
   "cell_type": "code",
   "execution_count": 16,
   "id": "ee68a6a4-e6aa-4488-a170-7348f62cc24b",
   "metadata": {},
   "outputs": [
    {
     "name": "stdout",
     "output_type": "stream",
     "text": [
      "It is True\n",
      "Also print this\n",
      "Always print this\n"
     ]
    }
   ],
   "source": [
    "a= True\n",
    "b = False\n",
    "c = True \n",
    "if a:\n",
    "    print('It is True')\n",
    "    print('Also print this')\n",
    "    if b:\n",
    "        print ('Both are true')\n",
    "        if c:\n",
    "            print('All three variables are true')\n",
    "else: \n",
    "    print ('it is else statemnt')\n",
    "print('Always print this')"
   ]
  },
  {
   "cell_type": "markdown",
   "id": "3f9811e0-8959-445c-857f-e67e80ceb298",
   "metadata": {},
   "source": [
    "## For loop"
   ]
  },
  {
   "cell_type": "code",
   "execution_count": 17,
   "id": "82b7885d-13cb-4fd9-a8bb-57797c83ac19",
   "metadata": {},
   "outputs": [
    {
     "name": "stdout",
     "output_type": "stream",
     "text": [
      "1\n",
      "2\n",
      "3\n",
      "4\n",
      "5\n"
     ]
    }
   ],
   "source": [
    "a=[1,2,3,4,5]\n",
    "for item in a:\n",
    "    print(item)"
   ]
  },
  {
   "cell_type": "code",
   "execution_count": 18,
   "id": "d56e3374-19a8-4bdb-a85f-27bf3b8af594",
   "metadata": {},
   "outputs": [
    {
     "data": {
      "text/plain": [
       "True"
      ]
     },
     "execution_count": 18,
     "metadata": {},
     "output_type": "execute_result"
    }
   ],
   "source": [
    "4 in a"
   ]
  },
  {
   "cell_type": "markdown",
   "id": "4c7ffff6-593b-4e85-9ff2-fc8cf509536d",
   "metadata": {},
   "source": [
    "## while loop"
   ]
  },
  {
   "cell_type": "code",
   "execution_count": 19,
   "id": "24cd1eb9-b76d-4355-ac41-9b16e7cee6cc",
   "metadata": {},
   "outputs": [
    {
     "name": "stdout",
     "output_type": "stream",
     "text": [
      "0\n",
      "1\n",
      "2\n",
      "3\n",
      "4\n"
     ]
    }
   ],
   "source": [
    "a=0\n",
    "while a < 5:\n",
    "    print(a)\n",
    "    a = a+1"
   ]
  }
 ],
 "metadata": {
  "kernelspec": {
   "display_name": "Python 3 (ipykernel)",
   "language": "python",
   "name": "python3"
  },
  "language_info": {
   "codemirror_mode": {
    "name": "ipython",
    "version": 3
   },
   "file_extension": ".py",
   "mimetype": "text/x-python",
   "name": "python",
   "nbconvert_exporter": "python",
   "pygments_lexer": "ipython3",
   "version": "3.10.6"
  }
 },
 "nbformat": 4,
 "nbformat_minor": 5
}
